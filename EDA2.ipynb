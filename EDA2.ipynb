import pandas as pd
import matplotlib.pyplot as plt
import seaborn as sns

# Charger le fichier CSV
file_path = 'high_diamond_ranked_10min.csv'
data = pd.read_csv(file_path)

# Afficher les premières lignes du DataFrame
print("Premières lignes du fichier:")
print(data.head())

# Informations générales sur le DataFrame
print("\nInformations sur le DataFrame:")
print(data.info())

# Statistiques descriptives
print("\nStatistiques descriptives:")
print(data.describe())

# Visualisation de la distribution des variables numériques
data.hist(bins=15, figsize=(15, 10))
plt.suptitle('Distribution des variables numériques')
plt.show()

# Matrice de corrélation
correlation_matrix = data.corr()
plt.figure(figsize=(12, 8))
sns.heatmap(correlation_matrix, annot=True, cmap='coolwarm')
plt.title('Matrice de corrélation')
plt.show()

# Analyse des colonnes spécifiques (exemple: 'blueWins')
if 'blueWins' in data.columns:
    print("\nAnalyse de la colonne 'blueWins':")
    print(data['blueWins'].value_counts())
    sns.countplot(x='blueWins', data=data)
    plt.title('Distribution des victoires de l\'équipe bleue')
    plt.show()
